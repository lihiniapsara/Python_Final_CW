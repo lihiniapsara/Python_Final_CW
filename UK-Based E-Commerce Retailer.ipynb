{
 "cells": [
  {
   "cell_type": "markdown",
   "id": "e5b16138",
   "metadata": {},
   "source": [
    "## Phase 1: Data Sanitation and Preprocessing\n",
    "This phase involves loading the Online Retail II dataset into a Pandas DataFrame, cleaning it by removing duplicates, missing Customer IDs, cancelled orders, zero-price rows, and non-product StockCodes, creating new features (TotalPrice, temporal columns), and converting data types as per the project specification (pages 7-8)."
   ]
  },
  {
   "cell_type": "code",
   "execution_count": 11,
   "id": "6a7155cf",
   "metadata": {},
   "outputs": [],
   "source": [
    "import pandas as pd\n",
    "import numpy as np\n",
    "import matplotlib.pyplot as plt\n",
    "import seaborn as sns\n",
    "import requests\n",
    "from datetime import datetime, timedelta\n",
    "\n",
    "\n",
    "# Set plot style for visualizations\n",
    "sns.set(style=\"whitegrid\")\n",
    "%matplotlib inline"
   ]
  },
  {
   "cell_type": "markdown",
   "id": "d4a58dbc",
   "metadata": {},
   "source": [
    "### Step 1: Load Dataset\n",
    "The `online_retail.csv` file is loaded into a Pandas DataFrame. Initial inspection includes checking the shape, data types, and missing values to understand the dataset's structure."
   ]
  },
  {
   "cell_type": "code",
   "execution_count": 12,
   "id": "e7c4e5bf",
   "metadata": {},
   "outputs": [
    {
     "name": "stdout",
     "output_type": "stream",
     "text": [
      "Initial Dataset Shape: (1067371, 8)\n",
      "\n",
      "First 5 Rows:\n",
      "   Invoice StockCode                          Description  Quantity  \\\n",
      "0  489434     85048  15CM CHRISTMAS GLASS BALL 20 LIGHTS        12   \n",
      "1  489434    79323P                   PINK CHERRY LIGHTS        12   \n",
      "2  489434    79323W                  WHITE CHERRY LIGHTS        12   \n",
      "3  489434     22041         RECORD FRAME 7\" SINGLE SIZE         48   \n",
      "4  489434     21232       STRAWBERRY CERAMIC TRINKET BOX        24   \n",
      "\n",
      "           InvoiceDate  Price  Customer ID         Country  \n",
      "0  2009-12-01 07:45:00   6.95      13085.0  United Kingdom  \n",
      "1  2009-12-01 07:45:00   6.75      13085.0  United Kingdom  \n",
      "2  2009-12-01 07:45:00   6.75      13085.0  United Kingdom  \n",
      "3  2009-12-01 07:45:00   2.10      13085.0  United Kingdom  \n",
      "4  2009-12-01 07:45:00   1.25      13085.0  United Kingdom  \n",
      "\n",
      "Data Types and Non-Null Counts:\n",
      "\n",
      "<class 'pandas.core.frame.DataFrame'>\n",
      "RangeIndex: 1067371 entries, 0 to 1067370\n",
      "Data columns (total 8 columns):\n",
      " #   Column       Non-Null Count    Dtype  \n",
      "---  ------       --------------    -----  \n",
      " 0   Invoice      1067371 non-null  object \n",
      " 1   StockCode    1067371 non-null  object \n",
      " 2   Description  1062989 non-null  object \n",
      " 3   Quantity     1067371 non-null  int64  \n",
      " 4   InvoiceDate  1067371 non-null  object \n",
      " 5   Price        1067371 non-null  float64\n",
      " 6   Customer ID  824364 non-null   float64\n",
      " 7   Country      1067371 non-null  object \n",
      "dtypes: float64(2), int64(1), object(5)\n",
      "memory usage: 65.1+ MB\n",
      "\n",
      "\n",
      "\n",
      "Missing Values:\n",
      " Invoice             0\n",
      "StockCode           0\n",
      "Description      4382\n",
      "Quantity            0\n",
      "InvoiceDate         0\n",
      "Price               0\n",
      "Customer ID    243007\n",
      "Country             0\n",
      "dtype: int64\n"
     ]
    }
   ],
   "source": [
    "# Load dataset\n",
    "df = pd.read_csv('D:/Python/Python Final CW/online_retail.csv', encoding='latin1')  # Use latin1 if encoding issues occur\n",
    "print(\"Initial Dataset Shape:\", df.shape)\n",
    "print(\"\\nFirst 5 Rows:\\n\", df.head())\n",
    "print(\"\\nData Types and Non-Null Counts:\\n\")\n",
    "df.info()\n",
    "\n",
    "print()\n",
    "print()\n",
    "print(\"\\nMissing Values:\\n\", df.isnull().sum())"
   ]
  },
  {
   "cell_type": "markdown",
   "id": "340b0558",
   "metadata": {},
   "source": [
    "### Step 2: Remove Duplicates\n",
    "Duplicate rows are identified and removed to ensure each transaction is unique, as required by the specification (page 7). This prevents over-counting in analysis."
   ]
  },
  {
   "cell_type": "code",
   "execution_count": 13,
   "id": "2d618677",
   "metadata": {},
   "outputs": [
    {
     "name": "stdout",
     "output_type": "stream",
     "text": [
      "Duplicate Rows: 34335\n",
      "Shape after removing duplicates: (1033036, 8)\n"
     ]
    }
   ],
   "source": [
    "# Check and remove duplicates\n",
    "print(\"Duplicate Rows:\", df.duplicated().sum())\n",
    "df = df.drop_duplicates()\n",
    "print(\"Shape after removing duplicates:\", df.shape)"
   ]
  },
  {
   "cell_type": "markdown",
   "id": "507b8973",
   "metadata": {},
   "source": [
    "### Step 3: Handle Missing Customer IDs\n",
    "Rows with missing Customer IDs are removed, as they are critical for RFM analysis (page 7). This decision may exclude ~25% of data, potentially affecting analysis, which will be discussed in the report."
   ]
  },
  {
   "cell_type": "code",
   "execution_count": 14,
   "id": "5805d7ae",
   "metadata": {},
   "outputs": [
    {
     "name": "stdout",
     "output_type": "stream",
     "text": [
      "Missing Customer IDs: 235151\n",
      "Shape after removing missing Customer IDs: (797885, 8)\n"
     ]
    }
   ],
   "source": [
    "# Remove missing Customer IDs\n",
    "print(\"Missing Customer IDs:\", df['Customer ID'].isnull().sum())\n",
    "df = df.dropna(subset=['Customer ID'])\n",
    "print(\"Shape after removing missing Customer IDs:\", df.shape)"
   ]
  },
  {
   "cell_type": "markdown",
   "id": "0149e437",
   "metadata": {},
   "source": [
    "### Step 4: Clean Transactional Data\n",
    "This step removes:\n",
    "- Cancelled orders (Invoice starting with 'C') as they do not represent valid sales (page 5).\n",
    "- Zero-price rows, which may indicate errors or promotional items (page 7).\n",
    "- Non-product StockCodes (e.g., postage, bank fees) to focus on actual product sales (page 7)."
   ]
  },
  {
   "cell_type": "code",
   "execution_count": 15,
   "id": "d7e8b94d",
   "metadata": {},
   "outputs": [
    {
     "name": "stdout",
     "output_type": "stream",
     "text": [
      "Shape after removing cancellations: (779495, 8)\n",
      "Zero Price Rows: 70\n",
      "Shape after removing zero-price rows: (779425, 8)\n",
      "Shape after removing non-product StockCodes: (776646, 8)\n"
     ]
    }
   ],
   "source": [
    "# Remove cancelled orders\n",
    "df = df[~df['Invoice'].str.startswith('C', na=False)]\n",
    "print(\"Shape after removing cancellations:\", df.shape)\n",
    "\n",
    "# Remove zero-price rows\n",
    "print(\"Zero Price Rows:\", len(df[df['Price'] == 0]))\n",
    "df = df[df['Price'] > 0]\n",
    "print(\"Shape after removing zero-price rows:\", df.shape)\n",
    "\n",
    "# Remove non-product StockCodes\n",
    "non_product_codes = ['POST', 'DOT', 'M', 'BANK CHARGES', 'C2', 'CRUK']\n",
    "df = df[~df['StockCode'].isin(non_product_codes)]\n",
    "print(\"Shape after removing non-product StockCodes:\", df.shape)"
   ]
  },
  {
   "cell_type": "markdown",
   "id": "74d9eedc",
   "metadata": {},
   "source": [
    "### Step 5: Feature Engineering\n",
    "A `TotalPrice` column is created by multiplying Quantity and Price to measure revenue. Temporal features (Year, Month, DayOfWeek, HourOfDay) are extracted from InvoiceDate for time-based analysis (page 8)."
   ]
  },
  {
   "cell_type": "code",
   "execution_count": 16,
   "id": "db37eaed",
   "metadata": {},
   "outputs": [
    {
     "name": "stdout",
     "output_type": "stream",
     "text": [
      "First 5 Rows with New Columns:\n",
      "   Invoice StockCode                          Description  Quantity  \\\n",
      "0  489434     85048  15CM CHRISTMAS GLASS BALL 20 LIGHTS        12   \n",
      "1  489434    79323P                   PINK CHERRY LIGHTS        12   \n",
      "2  489434    79323W                  WHITE CHERRY LIGHTS        12   \n",
      "3  489434     22041         RECORD FRAME 7\" SINGLE SIZE         48   \n",
      "4  489434     21232       STRAWBERRY CERAMIC TRINKET BOX        24   \n",
      "\n",
      "          InvoiceDate  Price  Customer ID         Country  TotalPrice  Year  \\\n",
      "0 2009-12-01 07:45:00   6.95      13085.0  United Kingdom        83.4  2009   \n",
      "1 2009-12-01 07:45:00   6.75      13085.0  United Kingdom        81.0  2009   \n",
      "2 2009-12-01 07:45:00   6.75      13085.0  United Kingdom        81.0  2009   \n",
      "3 2009-12-01 07:45:00   2.10      13085.0  United Kingdom       100.8  2009   \n",
      "4 2009-12-01 07:45:00   1.25      13085.0  United Kingdom        30.0  2009   \n",
      "\n",
      "   Month  DayOfWeek  HourOfDay  \n",
      "0     12          1          7  \n",
      "1     12          1          7  \n",
      "2     12          1          7  \n",
      "3     12          1          7  \n",
      "4     12          1          7  \n"
     ]
    }
   ],
   "source": [
    "# Create TotalPrice column\n",
    "df['TotalPrice'] = df['Quantity'] * df['Price']\n",
    "\n",
    "# Extract temporal features\n",
    "df['InvoiceDate'] = pd.to_datetime(df['InvoiceDate'])\n",
    "df['Year'] = df['InvoiceDate'].dt.year\n",
    "df['Month'] = df['InvoiceDate'].dt.month\n",
    "df['DayOfWeek'] = df['InvoiceDate'].dt.dayofweek  # 0=Monday, 6=Sunday\n",
    "df['HourOfDay'] = df['InvoiceDate'].dt.hour\n",
    "\n",
    "print(\"First 5 Rows with New Columns:\\n\", df.head())"
   ]
  },
  {
   "cell_type": "markdown",
   "id": "afdba053",
   "metadata": {},
   "source": [
    "### Step 6: Data Type Conversion\n",
    "Converting:\n",
    "- InvoiceDate to datetime64[ns] for temporal analysis.\n",
    "- Customer ID to integer after removing missing values.\n",
    "- StockCode to string as it’s alphanumeric and not used for calculations (page 8)."
   ]
  },
  {
   "cell_type": "code",
   "execution_count": 17,
   "id": "d5e25c07",
   "metadata": {},
   "outputs": [
    {
     "name": "stdout",
     "output_type": "stream",
     "text": [
      "\n",
      "Data Types After Conversion:\n",
      "\n",
      "<class 'pandas.core.frame.DataFrame'>\n",
      "Index: 776646 entries, 0 to 1067369\n",
      "Data columns (total 13 columns):\n",
      " #   Column       Non-Null Count   Dtype         \n",
      "---  ------       --------------   -----         \n",
      " 0   Invoice      776646 non-null  object        \n",
      " 1   StockCode    776646 non-null  object        \n",
      " 2   Description  776646 non-null  object        \n",
      " 3   Quantity     776646 non-null  int64         \n",
      " 4   InvoiceDate  776646 non-null  datetime64[ns]\n",
      " 5   Price        776646 non-null  float64       \n",
      " 6   Customer ID  776646 non-null  int64         \n",
      " 7   Country      776646 non-null  object        \n",
      " 8   TotalPrice   776646 non-null  float64       \n",
      " 9   Year         776646 non-null  int32         \n",
      " 10  Month        776646 non-null  int32         \n",
      " 11  DayOfWeek    776646 non-null  int32         \n",
      " 12  HourOfDay    776646 non-null  int32         \n",
      "dtypes: datetime64[ns](1), float64(2), int32(4), int64(2), object(4)\n",
      "memory usage: 71.1+ MB\n"
     ]
    }
   ],
   "source": [
    "# Convert data types\n",
    "df['InvoiceDate'] = pd.to_datetime(df['InvoiceDate'])  # Ensure datetime\n",
    "df['Customer ID'] = df['Customer ID'].astype(int)\n",
    "df['StockCode'] = df['StockCode'].astype(str)\n",
    "\n",
    "print(\"\\nData Types After Conversion:\\n\")\n",
    "df.info()"
   ]
  },
  {
   "cell_type": "markdown",
   "id": "e19ef99e",
   "metadata": {},
   "source": [
    "### Step 7: Final Dataset Check\n",
    "Verifying the cleaned dataset’s shape, structure, and absence of critical missing values to ensure it’s ready for analysis in subsequent phases."
   ]
  },
  {
   "cell_type": "code",
   "execution_count": 18,
   "id": "64f88fae",
   "metadata": {},
   "outputs": [
    {
     "name": "stdout",
     "output_type": "stream",
     "text": [
      "Final Cleaned Dataset Shape: (776646, 13)\n",
      "\n",
      "Sample Data:\n",
      "   Invoice StockCode                          Description  Quantity  \\\n",
      "0  489434     85048  15CM CHRISTMAS GLASS BALL 20 LIGHTS        12   \n",
      "1  489434    79323P                   PINK CHERRY LIGHTS        12   \n",
      "2  489434    79323W                  WHITE CHERRY LIGHTS        12   \n",
      "3  489434     22041         RECORD FRAME 7\" SINGLE SIZE         48   \n",
      "4  489434     21232       STRAWBERRY CERAMIC TRINKET BOX        24   \n",
      "\n",
      "          InvoiceDate  Price  Customer ID         Country  TotalPrice  Year  \\\n",
      "0 2009-12-01 07:45:00   6.95        13085  United Kingdom        83.4  2009   \n",
      "1 2009-12-01 07:45:00   6.75        13085  United Kingdom        81.0  2009   \n",
      "2 2009-12-01 07:45:00   6.75        13085  United Kingdom        81.0  2009   \n",
      "3 2009-12-01 07:45:00   2.10        13085  United Kingdom       100.8  2009   \n",
      "4 2009-12-01 07:45:00   1.25        13085  United Kingdom        30.0  2009   \n",
      "\n",
      "   Month  DayOfWeek  HourOfDay  \n",
      "0     12          1          7  \n",
      "1     12          1          7  \n",
      "2     12          1          7  \n",
      "3     12          1          7  \n",
      "4     12          1          7  \n",
      "\n",
      "Missing Values After Cleaning:\n",
      " Invoice        0\n",
      "StockCode      0\n",
      "Description    0\n",
      "Quantity       0\n",
      "InvoiceDate    0\n",
      "Price          0\n",
      "Customer ID    0\n",
      "Country        0\n",
      "TotalPrice     0\n",
      "Year           0\n",
      "Month          0\n",
      "DayOfWeek      0\n",
      "HourOfDay      0\n",
      "dtype: int64\n"
     ]
    }
   ],
   "source": [
    "print(\"Final Cleaned Dataset Shape:\", df.shape)\n",
    "print(\"\\nSample Data:\\n\", df.head())\n",
    "print(\"\\nMissing Values After Cleaning:\\n\", df.isnull().sum())"
   ]
  }
 ],
 "metadata": {
  "kernelspec": {
   "display_name": "Python 3",
   "language": "python",
   "name": "python3"
  },
  "language_info": {
   "codemirror_mode": {
    "name": "ipython",
    "version": 3
   },
   "file_extension": ".py",
   "mimetype": "text/x-python",
   "name": "python",
   "nbconvert_exporter": "python",
   "pygments_lexer": "ipython3",
   "version": "3.13.3"
  }
 },
 "nbformat": 4,
 "nbformat_minor": 5
}
